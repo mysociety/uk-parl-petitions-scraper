{
 "cells": [
  {
   "cell_type": "code",
   "execution_count": 3,
   "metadata": {},
   "outputs": [],
   "source": [
    "from data_common.notebook import *"
   ]
  },
  {
   "attachments": {},
   "cell_type": "markdown",
   "metadata": {},
   "source": [
    "# Petitions analysis\n",
    "\n",
    "Quick notebook to examine the results of the significance detection."
   ]
  },
  {
   "cell_type": "code",
   "execution_count": 19,
   "metadata": {},
   "outputs": [],
   "source": [
    "petitions = pd.read_csv(Path(\"data\", \"interim\", \"petitions.csv\"))\n",
    "\n",
    "# reduce to just the petitions with more than 1000 signatures classed and where is_environmental is true\n",
    "petitions = petitions[\n",
    "    (petitions[\"signature_count\"] > 1000) & (petitions[\"is_environmental\"] == True)\n",
    "]\n",
    "petitions = petitions.sort_values(\"signature_count\", ascending=False)"
   ]
  },
  {
   "cell_type": "code",
   "execution_count": 24,
   "metadata": {},
   "outputs": [
    {
     "data": {
      "text/html": [
       "<div>\n",
       "<style scoped>\n",
       "    .dataframe tbody tr th:only-of-type {\n",
       "        vertical-align: middle;\n",
       "    }\n",
       "\n",
       "    .dataframe tbody tr th {\n",
       "        vertical-align: top;\n",
       "    }\n",
       "\n",
       "    .dataframe thead th {\n",
       "        text-align: right;\n",
       "    }\n",
       "</style>\n",
       "<table border=\"1\" class=\"dataframe\">\n",
       "  <thead>\n",
       "    <tr style=\"text-align: right;\">\n",
       "      <th></th>\n",
       "      <th>gss</th>\n",
       "      <th>count</th>\n",
       "      <th>sig</th>\n",
       "      <th>qualifying_petitions</th>\n",
       "    </tr>\n",
       "  </thead>\n",
       "  <tbody>\n",
       "    <tr>\n",
       "      <th>0</th>\n",
       "      <td>E14000530</td>\n",
       "      <td>2421.0</td>\n",
       "      <td>8.0</td>\n",
       "      <td>10.0</td>\n",
       "    </tr>\n",
       "    <tr>\n",
       "      <th>1</th>\n",
       "      <td>E14000531</td>\n",
       "      <td>1545.0</td>\n",
       "      <td>4.0</td>\n",
       "      <td>10.0</td>\n",
       "    </tr>\n",
       "    <tr>\n",
       "      <th>2</th>\n",
       "      <td>E14000532</td>\n",
       "      <td>2148.0</td>\n",
       "      <td>3.0</td>\n",
       "      <td>10.0</td>\n",
       "    </tr>\n",
       "    <tr>\n",
       "      <th>3</th>\n",
       "      <td>E14000533</td>\n",
       "      <td>2524.0</td>\n",
       "      <td>8.0</td>\n",
       "      <td>10.0</td>\n",
       "    </tr>\n",
       "    <tr>\n",
       "      <th>4</th>\n",
       "      <td>E14000534</td>\n",
       "      <td>3889.0</td>\n",
       "      <td>9.0</td>\n",
       "      <td>10.0</td>\n",
       "    </tr>\n",
       "    <tr>\n",
       "      <th>...</th>\n",
       "      <td>...</td>\n",
       "      <td>...</td>\n",
       "      <td>...</td>\n",
       "      <td>...</td>\n",
       "    </tr>\n",
       "    <tr>\n",
       "      <th>645</th>\n",
       "      <td>W07000076</td>\n",
       "      <td>1716.0</td>\n",
       "      <td>2.0</td>\n",
       "      <td>10.0</td>\n",
       "    </tr>\n",
       "    <tr>\n",
       "      <th>646</th>\n",
       "      <td>W07000077</td>\n",
       "      <td>1340.0</td>\n",
       "      <td>3.0</td>\n",
       "      <td>10.0</td>\n",
       "    </tr>\n",
       "    <tr>\n",
       "      <th>647</th>\n",
       "      <td>W07000078</td>\n",
       "      <td>2331.0</td>\n",
       "      <td>5.0</td>\n",
       "      <td>10.0</td>\n",
       "    </tr>\n",
       "    <tr>\n",
       "      <th>648</th>\n",
       "      <td>W07000079</td>\n",
       "      <td>2277.0</td>\n",
       "      <td>7.0</td>\n",
       "      <td>10.0</td>\n",
       "    </tr>\n",
       "    <tr>\n",
       "      <th>649</th>\n",
       "      <td>W07000080</td>\n",
       "      <td>2598.0</td>\n",
       "      <td>10.0</td>\n",
       "      <td>10.0</td>\n",
       "    </tr>\n",
       "  </tbody>\n",
       "</table>\n",
       "<p>650 rows × 4 columns</p>\n",
       "</div>"
      ],
      "text/plain": [
       "           gss   count   sig  qualifying_petitions\n",
       "0    E14000530  2421.0   8.0                  10.0\n",
       "1    E14000531  1545.0   4.0                  10.0\n",
       "2    E14000532  2148.0   3.0                  10.0\n",
       "3    E14000533  2524.0   8.0                  10.0\n",
       "4    E14000534  3889.0   9.0                  10.0\n",
       "..         ...     ...   ...                   ...\n",
       "645  W07000076  1716.0   2.0                  10.0\n",
       "646  W07000077  1340.0   3.0                  10.0\n",
       "647  W07000078  2331.0   5.0                  10.0\n",
       "648  W07000079  2277.0   7.0                  10.0\n",
       "649  W07000080  2598.0  10.0                  10.0\n",
       "\n",
       "[650 rows x 4 columns]"
      ]
     },
     "execution_count": 24,
     "metadata": {},
     "output_type": "execute_result"
    }
   ],
   "source": [
    "df = pd.read_csv(\n",
    "    Path(\"data\", \"interim\", \"constituency_signatures_with_significance.csv\")\n",
    ")\n",
    "\n",
    "# limit to just the petition_id that are present in the petitions dataframe\n",
    "df = df[df[\"petition_id\"].isin(petitions[\"id\"].tolist())]\n",
    "\n",
    "# reduce to the top ten petitions per constituency (gss)\n",
    "df = df.sort_values(\"signatures\", ascending=False).groupby(\"gss\").head(10)\n",
    "df\n",
    "\n",
    "# for each constituency, calculate the total number of signatures, and how many of those are significant\n",
    "\n",
    "# first, group by constituency and sum the signatures\n",
    "\n",
    "\n",
    "def get_sum_signatures(df):\n",
    "    count = df[\"signatures\"].sum()\n",
    "    sig = df[\"significant\"].sum()\n",
    "    total = len(df)\n",
    "    return pd.Series({\"count\": count, \"sig\": sig, \"qualifying_petitions\": total})\n",
    "\n",
    "\n",
    "group = df.groupby(\"gss\").apply(get_sum_signatures).reset_index()"
   ]
  },
  {
   "attachments": {},
   "cell_type": "markdown",
   "metadata": {},
   "source": [
    "# What are the statistics on how the total number of signatures (in top ten) are distributed\n",
    "\n",
    "Average of around 2,000 signatures, some much lower, some higher!"
   ]
  },
  {
   "cell_type": "code",
   "execution_count": 21,
   "metadata": {},
   "outputs": [
    {
     "data": {
      "text/plain": [
       "count     650.00\n",
       "mean     2236.36\n",
       "std       993.23\n",
       "min       275.00\n",
       "25%      1581.75\n",
       "50%      2121.00\n",
       "75%      2787.75\n",
       "max      9303.00\n",
       "Name: count, dtype: float64"
      ]
     },
     "execution_count": 21,
     "metadata": {},
     "output_type": "execute_result"
    }
   ],
   "source": [
    "group[\"count\"].describe()"
   ]
  },
  {
   "attachments": {},
   "cell_type": "markdown",
   "metadata": {},
   "source": [
    "# What are the statistics on if the total signatures in top ten are significant\n",
    "\n",
    "On average 6ish out of top ten are significant for the constituency - meaning they standout from all constituencies (if not necessarily *similar* constituencies)."
   ]
  },
  {
   "cell_type": "code",
   "execution_count": 18,
   "metadata": {},
   "outputs": [
    {
     "data": {
      "text/plain": [
       "count    650.00\n",
       "mean       6.46\n",
       "std        1.97\n",
       "min        1.00\n",
       "25%        5.00\n",
       "50%        6.00\n",
       "75%        8.00\n",
       "max       10.00\n",
       "Name: sig, dtype: float64"
      ]
     },
     "execution_count": 18,
     "metadata": {},
     "output_type": "execute_result"
    }
   ],
   "source": [
    "group[\"sig\"].describe()"
   ]
  },
  {
   "cell_type": "code",
   "execution_count": 22,
   "metadata": {},
   "outputs": [
    {
     "data": {
      "text/plain": [
       "6500"
      ]
     },
     "execution_count": 22,
     "metadata": {},
     "output_type": "execute_result"
    }
   ],
   "source": [
    "len(df)"
   ]
  }
 ],
 "metadata": {
  "kernelspec": {
   "display_name": "Python 3",
   "language": "python",
   "name": "python3"
  },
  "language_info": {
   "codemirror_mode": {
    "name": "ipython",
    "version": 3
   },
   "file_extension": ".py",
   "mimetype": "text/x-python",
   "name": "python",
   "nbconvert_exporter": "python",
   "pygments_lexer": "ipython3",
   "version": "3.10.8 (main, Nov 15 2022, 21:17:07) [GCC 8.3.0]"
  },
  "orig_nbformat": 4,
  "vscode": {
   "interpreter": {
    "hash": "949777d72b0d2535278d3dc13498b2535136f6dfe0678499012e853ee9abcab1"
   }
  }
 },
 "nbformat": 4,
 "nbformat_minor": 2
}
